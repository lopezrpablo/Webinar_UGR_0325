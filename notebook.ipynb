{
 "cells": [
  {
   "cell_type": "markdown",
   "id": "f6f72cd8-d73c-4143-8222-212e8fe48d25",
   "metadata": {},
   "source": [
    "# Tecnología aplicada a la música de tradición oral (bloque 3)\n",
    "### Demostración 3. Exploración “en vivo” de un jupyter notebook"
   ]
  },
  {
   "cell_type": "markdown",
   "id": "c7e8d6f8-8397-46f6-9676-ad4d7eb10d57",
   "metadata": {},
   "source": [
    "Partes del flujo de trabajo\n",
    "\n",
    "1. Cargar una melodía de libre elección.\n",
    "2. Visualizar la estructura de datos subyacente y renderizarla\n",
    "3. Filtrar notas, duraciones e intervalos\n",
    "4. Procesos de extracción de información analítica (*feature extraction*):\n",
    "> * Histograma de intervalos\n",
    "> * Histograma de alturas\n",
    "> * Histograma de duraciones\n",
    "> * Armadura\n",
    "> * Rango\n",
    "> * Altura inicial y final\n",
    "> * Altura mediana\n",
    "> * Altura más repetida\n",
    "> * Altura menos repetida\n",
    "5. Visualización gráfica:\n",
    "> * Densidad de notas por compás\n",
    "> * Progress bar de alturas"
   ]
  },
  {
   "cell_type": "code",
   "execution_count": null,
   "id": "66cc0e5f-20f5-4b40-9135-3b1be4fdfc9c",
   "metadata": {},
   "outputs": [],
   "source": [
    "### este código debe ejecutarse obligatoriamente para que el resto funcione. \n",
    "## Su cometido es cargar el software que nutre este entorno informático.\n",
    "from music21 import *\n",
    "import os\n",
    "import pandas as pd\n",
    "import ipywidgets as widgets\n",
    "from IPython.display import display\n",
    "from collections import Counter\n",
    "from matplotlib import pyplot as plt\n",
    "import pandas as pd\n",
    "from melodic import ambito, armadura, get_counter_stats, rec_notas, note_rest_ratio\n",
    "from visualization import activityPlot, activityHeatMap, melodicContour"
   ]
  },
  {
   "cell_type": "markdown",
   "id": "74e5c6be-cc6d-42fe-ae3e-f1e91cfe30d5",
   "metadata": {},
   "source": [
    "### 1. Cargar una melodía de libre elección"
   ]
  },
  {
   "cell_type": "raw",
   "id": "d48fa2e0-b1a1-42ad-943c-ec1a629405ec",
   "metadata": {},
   "source": [
    "SELECCIÓN DE CARPETA"
   ]
  },
  {
   "cell_type": "code",
   "execution_count": null,
   "id": "a45dee57-769c-4afd-b8cc-99b6ce2de490",
   "metadata": {},
   "outputs": [],
   "source": [
    "valor = widgets.ToggleButtons(\n",
    "    options=['40', '60'],\n",
    "    description='Seleccionar repertorio según una década:',\n",
    "    value='40'  # Valor por defecto\n",
    ")\n",
    "\n",
    "carpeta = widgets.Label(value=f'Seleccionado: {valor.value}')\n",
    "\n",
    "def actualizar_carpeta(*args):\n",
    "    carpeta.value = f'Seleccionado: {valor.value}'\n",
    "\n",
    "valor.observe(actualizar_carpeta, 'value')\n",
    "\n",
    "display(valor, carpeta)\n"
   ]
  },
  {
   "cell_type": "code",
   "execution_count": null,
   "id": "b502c035-0e3d-4a44-bfd2-ede3563fd816",
   "metadata": {},
   "outputs": [],
   "source": [
    "## IMPRIMIR LA LISTA DE ARCHIVOS DE DICHA CARPETA\n",
    "folder = str(carpeta.value).split()[-1]\n",
    "mels = os.listdir(folder + '/')\n",
    "\n",
    "for i in mels:\n",
    "    print(i)\n",
    "    "
   ]
  },
  {
   "cell_type": "code",
   "execution_count": null,
   "id": "2c7ee6e4-e68b-455c-a331-161ca3e6ca6f",
   "metadata": {},
   "outputs": [],
   "source": [
    "### MODIFICA EL NOMBRE DE ARCHIVO DE ESTE CÓDIGO Y EJECÚTALO CON PLAY O SHIFT + ENTER\n",
    "\n",
    "try:\n",
    "    s = converter.parse(folder + '/' + 'GR_Cuna_M22-018.krn')\n",
    "    print('La partitura se ha cargado correctamente')\n",
    "except:\n",
    "    print('Glups! algo debe haber ido mal. Revisa el nombre del archivo.')"
   ]
  },
  {
   "cell_type": "markdown",
   "id": "c9023111-c443-4c59-8766-ba0d9f4c5063",
   "metadata": {},
   "source": [
    "### 2. Visualizar la estructura de datos subyacente y renderizar la partitura"
   ]
  },
  {
   "cell_type": "code",
   "execution_count": null,
   "id": "f9b2ceeb-9ae3-4640-ac45-205eb1d9bf1d",
   "metadata": {},
   "outputs": [],
   "source": [
    "### MOSTRAR LOS DATOS SUBYACENTES QUE GENERA EL PROGRAMA\n",
    "\n",
    "s.show('text')"
   ]
  },
  {
   "cell_type": "code",
   "execution_count": null,
   "id": "48b73a55-1359-4975-9ba5-8183491aeeb6",
   "metadata": {},
   "outputs": [],
   "source": [
    "### VER LA PARTITURA RENDERIZADA\n",
    "\n",
    "s.show()"
   ]
  },
  {
   "cell_type": "markdown",
   "id": "20eeba20-cb22-456a-ab66-0bfe31a37aa4",
   "metadata": {},
   "source": [
    "### 3. Filtrar notas, duraciones e intervalos"
   ]
  },
  {
   "cell_type": "code",
   "execution_count": null,
   "id": "661ab9c8-44b5-40e5-a881-82ddbe3071df",
   "metadata": {},
   "outputs": [],
   "source": [
    "### AQUÍ CREAMOS FILTROS PARA NOTAS\n",
    "\n",
    "pitches = s.recurse().notes\n",
    "\n",
    "## DURACIONES\n",
    "durs = [i.quarterLength if isinstance(i.quarterLength, float) else round(float(i.quarterLength), 2) for i in pitches]\n",
    "\n",
    "## E INTERVALOS\n",
    "\n",
    "ints = list()\n",
    "lastpitch = None\n",
    "for i in pitches:\n",
    "    if isinstance(i, note.Note) == True:\n",
    "        if lastpitch is not None:\n",
    "            now = interval.Interval(lastpitch, i).semitones\n",
    "            ints.append(now)\n",
    "        else:\n",
    "            lastpitch = i\n",
    "    else:\n",
    "        pass"
   ]
  },
  {
   "cell_type": "code",
   "execution_count": null,
   "id": "234f4b55-9285-4b37-827c-fba9100ece19",
   "metadata": {},
   "outputs": [],
   "source": [
    "### IMPRIMIMOS LOS RESULTADOS DE ESTOS FILTROS\n",
    "\n",
    "print('Secuencia de alturas: ')\n",
    "alturas = [i.nameWithOctave for i in pitches]\n",
    "print(alturas)\n",
    "print('----')\n",
    "\n",
    "print('Secuencia de duraciones (unidad de negra): ')\n",
    "print(durs)\n",
    "\n",
    "print('----')\n",
    "print('Secuencia de intervalos (unidad de semitono): ')\n",
    "print(ints)\n"
   ]
  },
  {
   "cell_type": "code",
   "execution_count": null,
   "id": "54954885-f419-42ca-b0de-afbecc5f3e3e",
   "metadata": {},
   "outputs": [],
   "source": [
    "### CONTADORES DE OCURRENCIAS\n",
    "\n",
    "pitches_counter = Counter(alturas)\n",
    "\n",
    "durs_counter = Counter(durs)\n",
    "\n",
    "ints_counter = Counter(ints)\n",
    "\n",
    "def generateNumericalHistogram(cnt, tag):\n",
    "    etiquetas = list(cnt.keys())\n",
    "    valores = list(cnt.values())\n",
    "\n",
    "    bar_width = 0.8\n",
    "\n",
    "    plt.bar(etiquetas, valores, color='skyblue', edgecolor='black', width=bar_width)\n",
    "    plt.xlabel(\"Tipos\")\n",
    "    plt.ylabel(\"Frecuencia\")\n",
    "    plt.title(\"Histograma de \" + tag)\n",
    "\n",
    "    if all(isinstance(e, (int, float)) for e in etiquetas):\n",
    "        if any(isinstance(e, float) for e in etiquetas):\n",
    "            step = 1\n",
    "            plt.xticks(etiquetas, rotation=45, ha='right')\n",
    "        else:\n",
    "            plt.xticks(range(int(min(etiquetas)), int(max(etiquetas)) + 1, 1), rotation=45, ha='right')\n",
    "\n",
    "    plt.tight_layout()\n",
    "    plt.show()\n",
    "\n",
    "def generateCategoricalHistogram(cnt, tag):\n",
    "    etiquetas = sorted(cnt.keys())  # Ordenar etiquetas\n",
    "    valores = [cnt[e] for e in etiquetas]  # Obtener valores en el mismo orden\n",
    "\n",
    "    etiquetas_str = [str(e) for e in etiquetas]  # Convertir etiquetas a strings\n",
    "\n",
    "    bar_width = 0.8\n",
    "\n",
    "    plt.bar(etiquetas_str, valores, color='skyblue', edgecolor='black', width=bar_width)\n",
    "    plt.xlabel(\"Tipos\")\n",
    "    plt.ylabel(\"Frecuencia\")\n",
    "    plt.title(\"Histograma de \" + tag)\n",
    "\n",
    "    plt.xticks(etiquetas_str, rotation=45, ha='right')  # Tratar etiquetas como categóricas\n",
    "\n",
    "    plt.tight_layout()\n",
    "    plt.show()"
   ]
  },
  {
   "cell_type": "code",
   "execution_count": null,
   "id": "da02567c-0640-4484-af98-3d23cb5ab3c8",
   "metadata": {},
   "outputs": [],
   "source": [
    "### HISTOGRAMAS DE FRECUENCIAS"
   ]
  },
  {
   "cell_type": "code",
   "execution_count": null,
   "id": "d80c49be-a9d9-403e-8b07-a42e88d9e86c",
   "metadata": {},
   "outputs": [],
   "source": [
    "## ¿Cómo se guardan estos conteos en Python?\n",
    "\n",
    "print(durs_counter)"
   ]
  },
  {
   "cell_type": "code",
   "execution_count": null,
   "id": "a1309b4f-56ea-4fe1-ab2c-3dd8759febbd",
   "metadata": {},
   "outputs": [],
   "source": [
    "generateNumericalHistogram(pitches_counter, 'alturas')"
   ]
  },
  {
   "cell_type": "code",
   "execution_count": null,
   "id": "388c839e-f1d9-4277-99a8-a39118b8ef0d",
   "metadata": {},
   "outputs": [],
   "source": [
    "generateCategoricalHistogram(durs_counter, 'duraciones')"
   ]
  },
  {
   "cell_type": "code",
   "execution_count": null,
   "id": "96c6f8ad-ab4c-4cf3-b669-b313710d75d4",
   "metadata": {},
   "outputs": [],
   "source": [
    "generateNumericalHistogram(ints_counter, 'intervalos')"
   ]
  },
  {
   "cell_type": "markdown",
   "id": "0743ab2b-8f23-4b09-b557-94c7d07b68be",
   "metadata": {},
   "source": [
    "### 4. Procesos de extracción de información analítica (*feature extraction*)"
   ]
  },
  {
   "cell_type": "markdown",
   "id": "8f77eb52-3687-4c26-afff-2b7106c53fce",
   "metadata": {},
   "source": [
    "#### Obtener la armadura"
   ]
  },
  {
   "cell_type": "code",
   "execution_count": null,
   "id": "5c963beb-4722-4702-80c5-0f581d278278",
   "metadata": {},
   "outputs": [],
   "source": [
    "ks = armadura(s)\n",
    "print('La armadura de esta pieza es ' + str(ks))"
   ]
  },
  {
   "cell_type": "markdown",
   "id": "0c65e5da-bcac-4fc3-a8d2-5099a75a59dd",
   "metadata": {},
   "source": [
    "#### Obtener el rango melódico"
   ]
  },
  {
   "cell_type": "code",
   "execution_count": null,
   "id": "5cdb09eb-f366-4823-a32e-f453f32c1ed1",
   "metadata": {},
   "outputs": [],
   "source": [
    "amb = ambito(s)\n",
    "amb_2 = amb.split(' - ')\n",
    "amb_3 = str(interval.Interval(note.Note(amb_2[0]), note.Note(amb_2[1])).semitones)\n",
    "print('El ambito de esta pieza es de ' + amb_3 + f' semitonos ({amb})')"
   ]
  },
  {
   "cell_type": "markdown",
   "id": "6ec8515f-4eb2-463a-9196-1e4e0f9a498a",
   "metadata": {},
   "source": [
    "#### Obtener la altura inicial y final"
   ]
  },
  {
   "cell_type": "code",
   "execution_count": null,
   "id": "5c13d485-42d8-4a1f-9554-858e8b3b0691",
   "metadata": {},
   "outputs": [],
   "source": [
    "first_pitch = alturas[0]\n",
    "last_pitch = alturas[-1]\n",
    "\n",
    "print('La melodía comienza por ' + first_pitch + ' y acaba por ' + last_pitch)"
   ]
  },
  {
   "cell_type": "markdown",
   "id": "2225c34f-684b-4d7d-8012-8b9ef7e0b6ac",
   "metadata": {},
   "source": [
    "#### Obtener la altura más repetida"
   ]
  },
  {
   "cell_type": "code",
   "execution_count": null,
   "id": "be25c620-4d94-4e12-927d-a09d393a0b5f",
   "metadata": {},
   "outputs": [],
   "source": [
    "#### Obtener la altura más repetida\n",
    "tone_stats = get_counter_stats(rec_notas(s, last_pitch), 'notes')\n",
    "altura_mas_comun = tone_stats[0] ## más repetido\n",
    "print('La altura modal es ' + altura_mas_comun)"
   ]
  },
  {
   "cell_type": "markdown",
   "id": "8069dbfc-f258-4336-988e-a7a046304e1f",
   "metadata": {},
   "source": [
    "#### Obtener la altura mediana"
   ]
  },
  {
   "cell_type": "code",
   "execution_count": null,
   "id": "41b9ddb8-c027-4a4f-b1f9-51a205e6b69d",
   "metadata": {},
   "outputs": [],
   "source": [
    "altura_mediana = tone_stats[1] ## mediano repetido\n",
    "print('La altura mediana es ' + altura_mediana)"
   ]
  },
  {
   "cell_type": "markdown",
   "id": "409d4696-eb0d-47db-9de5-d3aa4d513471",
   "metadata": {},
   "source": [
    "#### Obtener la altura menos repetida"
   ]
  },
  {
   "cell_type": "code",
   "execution_count": null,
   "id": "96c31a4f-b997-4693-8dbe-ba44267716f3",
   "metadata": {},
   "outputs": [],
   "source": [
    "altura_menos_comun = tone_stats[2] ## menos repetido\n",
    "print('La altura menos repetida es ' + altura_menos_comun)"
   ]
  },
  {
   "cell_type": "markdown",
   "id": "fe791090-a416-45a8-bb71-36ca2b4a9401",
   "metadata": {},
   "source": [
    "#### Ratio entre duracion de notas y duración de silencios"
   ]
  },
  {
   "cell_type": "code",
   "execution_count": null,
   "id": "d04d62bd-87a7-4c62-8add-a2cd2b457134",
   "metadata": {},
   "outputs": [],
   "source": [
    "ratio_nt_rst = round(note_rest_ratio(s), 2)\n",
    "print('El ratio entre la duración de notas y de silencios es de ' + str(ratio_nt_rst))"
   ]
  },
  {
   "cell_type": "markdown",
   "id": "1b367e37-a953-439c-862a-32196009f294",
   "metadata": {},
   "source": [
    "### 5. Visualización gráfica"
   ]
  },
  {
   "cell_type": "markdown",
   "id": "c214e264-b3b6-4072-99d4-4263dee10ef9",
   "metadata": {},
   "source": [
    "#### Gráfico basado en la densidad de notas por compás"
   ]
  },
  {
   "cell_type": "code",
   "execution_count": null,
   "id": "882555b8-d076-48b4-823c-bf5275657e2a",
   "metadata": {},
   "outputs": [],
   "source": [
    "activityPlot(s)"
   ]
  },
  {
   "cell_type": "markdown",
   "id": "e3ed0420-3cd5-4b4e-967b-f57c39252cb5",
   "metadata": {},
   "source": [
    "#### Mapa de calor basado en la densidad de notas por compás"
   ]
  },
  {
   "cell_type": "code",
   "execution_count": null,
   "id": "61219e83-65d1-48a9-950b-4ecbf0e286a0",
   "metadata": {},
   "outputs": [],
   "source": [
    "activityHeatMap(s)"
   ]
  },
  {
   "cell_type": "markdown",
   "id": "d4ea22ad-e05b-4e53-b086-5195bb9335e6",
   "metadata": {},
   "source": [
    "#### Gráfico de barras basado en la altura"
   ]
  },
  {
   "cell_type": "code",
   "execution_count": null,
   "id": "febcacfd-518d-4d8c-ae3b-0a615f092d4a",
   "metadata": {},
   "outputs": [],
   "source": [
    "melodicContour(pitches)"
   ]
  }
 ],
 "metadata": {
  "kernelspec": {
   "display_name": "Python 3",
   "language": "python",
   "name": "python3"
  },
  "language_info": {
   "codemirror_mode": {
    "name": "ipython",
    "version": 3
   },
   "file_extension": ".py",
   "mimetype": "text/x-python",
   "name": "python",
   "nbconvert_exporter": "python",
   "pygments_lexer": "ipython3",
   "version": "3.10.12"
  },
  "widgets": {
   "application/vnd.jupyter.widget-state+json": {
    "state": {
     "00ed24c706ce40fc88d12b05d2291461": {
      "model_module": "@jupyter-widgets/controls",
      "model_module_version": "1.5.0",
      "model_name": "IntSliderModel",
      "state": {
       "layout": "IPY_MODEL_efbf74258ea645bab75d34d3cb563353",
       "max": 10,
       "style": "IPY_MODEL_2f0307dd72594c52acc2bf83a40e75fd",
       "value": 6
      }
     },
     "0123bcd6133b4c35ab28efa72cab7faf": {
      "model_module": "@jupyter-widgets/controls",
      "model_module_version": "1.5.0",
      "model_name": "IntTextModel",
      "state": {
       "layout": "IPY_MODEL_4e493091bbde4c43bbdb13b60ed26722",
       "step": 1,
       "style": "IPY_MODEL_323a383aaa22489492c4a82ce0c726aa"
      }
     },
     "03b227b04dc54c33a7bcf885ad0e4617": {
      "model_module": "@jupyter-widgets/controls",
      "model_module_version": "1.5.0",
      "model_name": "DescriptionStyleModel",
      "state": {
       "description_width": ""
      }
     },
     "04bd7b64968c456e9fc805ec07006e21": {
      "model_module": "@jupyter-widgets/controls",
      "model_module_version": "1.5.0",
      "model_name": "DescriptionStyleModel",
      "state": {
       "description_width": ""
      }
     },
     "076be71215274981bc7c5b257bee4b56": {
      "model_module": "@jupyter-widgets/controls",
      "model_module_version": "1.5.0",
      "model_name": "DropdownModel",
      "state": {
       "_options_labels": [
        "josquin_kyrie.musicxml",
        "morales_kyrie.musicxml"
       ],
       "description": "Selecciona una partitura:",
       "index": 1,
       "layout": "IPY_MODEL_cb9f9f091a784f2f9273f41c509114ae",
       "style": "IPY_MODEL_8a7f604450204d3183872413cc8937b2"
      }
     },
     "09be8f1c1df844278ac8b94f1e8489a1": {
      "model_module": "@jupyter-widgets/controls",
      "model_module_version": "1.5.0",
      "model_name": "SliderStyleModel",
      "state": {
       "description_width": ""
      }
     },
     "09ec9554fb89461cb42a78608c82c2f2": {
      "model_module": "@jupyter-widgets/controls",
      "model_module_version": "1.5.0",
      "model_name": "DropdownModel",
      "state": {
       "_options_labels": [
        "josquin_kyrie.musicxml",
        "morales_kyrie.musicxml"
       ],
       "description": "Selecciona una partitura:",
       "index": 0,
       "layout": "IPY_MODEL_47281212dc514720ad4541a89a6be9a1",
       "style": "IPY_MODEL_7a9df1826c8c4ad1ab299bc9d693f027"
      }
     },
     "0a40433a71124f5088ed8deae18f88b3": {
      "model_module": "@jupyter-widgets/controls",
      "model_module_version": "1.5.0",
      "model_name": "DropdownModel",
      "state": {
       "_options_labels": [
        "josquin_kyrie.musicxml",
        "morales_kyrie.musicxml"
       ],
       "description": "Selecciona una partitura:",
       "index": 0,
       "layout": "IPY_MODEL_6ffa0784f88f4c7f9e4659156af98775",
       "style": "IPY_MODEL_cd0d1161236941c9b7c6e458849bd361"
      }
     },
     "0dc1188cc2914724b2e37ddcdeeb0ccc": {
      "model_module": "@jupyter-widgets/controls",
      "model_module_version": "1.5.0",
      "model_name": "DescriptionStyleModel",
      "state": {
       "description_width": ""
      }
     },
     "107660e3234f4ff8ad3343dad82c2238": {
      "model_module": "@jupyter-widgets/controls",
      "model_module_version": "1.5.0",
      "model_name": "DropdownModel",
      "state": {
       "_options_labels": [
        "josquin_kyrie.musicxml",
        "morales_kyrie.musicxml"
       ],
       "description": "Selecciona una partitura:",
       "index": 0,
       "layout": "IPY_MODEL_bf88abdfd880470d836e65eea5c01e7d",
       "style": "IPY_MODEL_a0658b9806bc45e8a206b784cf6831c4"
      }
     },
     "12d76e2733cb424398570c51779fb055": {
      "model_module": "@jupyter-widgets/controls",
      "model_module_version": "1.5.0",
      "model_name": "IntSliderModel",
      "state": {
       "layout": "IPY_MODEL_4c4323383405446e9cdef325e32c262d",
       "max": 10,
       "style": "IPY_MODEL_ac98e291f66e4f599e2555c8f275a9e7"
      }
     },
     "1488e6e3c9ed49a9938c78212888957a": {
      "model_module": "@jupyter-widgets/controls",
      "model_module_version": "1.5.0",
      "model_name": "DropdownModel",
      "state": {
       "_options_labels": [
        "josquin_kyrie.musicxml",
        "morales_kyrie.musicxml"
       ],
       "description": "Selecciona una partitura:",
       "index": 0,
       "layout": "IPY_MODEL_f60f5a42886f449e8247f542a87f0ceb",
       "style": "IPY_MODEL_32f86057f7ec49189019e5b27155c7a3"
      }
     },
     "15aa668d383f44bd9416ad082ebeda8f": {
      "model_module": "@jupyter-widgets/controls",
      "model_module_version": "1.5.0",
      "model_name": "IntSliderModel",
      "state": {
       "layout": "IPY_MODEL_da96b6797c35416995556fe48397c2aa",
       "max": 10,
       "style": "IPY_MODEL_3e9ecd3b218541209e617101e0aecda2",
       "value": 6
      }
     },
     "1645d123b7ef4252abb6fb2cb09a15db": {
      "model_module": "@jupyter-widgets/controls",
      "model_module_version": "1.5.0",
      "model_name": "DescriptionStyleModel",
      "state": {
       "description_width": ""
      }
     },
     "19b4377a381f46279d56b81af2f45fe7": {
      "model_module": "@jupyter-widgets/controls",
      "model_module_version": "1.5.0",
      "model_name": "IntTextModel",
      "state": {
       "layout": "IPY_MODEL_b34b78d18ac5481cb727f216523fa9aa",
       "step": 1,
       "style": "IPY_MODEL_f22bbd02e6f348148c1f5d9b56dd28a5",
       "value": 6
      }
     },
     "19e6df60d5be4ea7a9f36584fb84c71d": {
      "model_module": "@jupyter-widgets/controls",
      "model_module_version": "1.5.0",
      "model_name": "DescriptionStyleModel",
      "state": {
       "description_width": ""
      }
     },
     "1a76eced298349e98a44bf923f901eb3": {
      "model_module": "@jupyter-widgets/controls",
      "model_module_version": "1.5.0",
      "model_name": "IntSliderModel",
      "state": {
       "layout": "IPY_MODEL_af400d24598b420e829dc7c2a850e960",
       "max": 10,
       "style": "IPY_MODEL_55515748f7774267a5b7b80c40b81005",
       "value": 6
      }
     },
     "1b1b0610660d4f6c92f4c92736366f9e": {
      "model_module": "@jupyter-widgets/controls",
      "model_module_version": "1.5.0",
      "model_name": "DescriptionStyleModel",
      "state": {
       "description_width": ""
      }
     },
     "1e79c85f268a4626ba94843e348913b5": {
      "model_module": "@jupyter-widgets/controls",
      "model_module_version": "1.5.0",
      "model_name": "DropdownModel",
      "state": {
       "_options_labels": [
        "josquin_kyrie.musicxml",
        "morales_kyrie.musicxml"
       ],
       "description": "Selecciona una partitura:",
       "index": 1,
       "layout": "IPY_MODEL_c1ee5d32a26e4ee89d4c99f6332f0217",
       "style": "IPY_MODEL_23e9c14da314404789ca9d7d966ad919"
      }
     },
     "1e7a6dc659de4439bb73ea7f6eef17ae": {
      "model_module": "@jupyter-widgets/base",
      "model_module_version": "1.2.0",
      "model_name": "LayoutModel",
      "state": {}
     },
     "1f5a8c6c3d4a4ac8bf2e7d47c8437330": {
      "model_module": "@jupyter-widgets/base",
      "model_module_version": "1.2.0",
      "model_name": "LayoutModel",
      "state": {}
     },
     "223f9b3e393d42e8a54764a77bb25ab8": {
      "model_module": "@jupyter-widgets/controls",
      "model_module_version": "1.5.0",
      "model_name": "DescriptionStyleModel",
      "state": {
       "description_width": ""
      }
     },
     "22ab1c1ca5974f5fa34f1a24f08d5a78": {
      "model_module": "@jupyter-widgets/base",
      "model_module_version": "1.2.0",
      "model_name": "LayoutModel",
      "state": {}
     },
     "23e9c14da314404789ca9d7d966ad919": {
      "model_module": "@jupyter-widgets/controls",
      "model_module_version": "1.5.0",
      "model_name": "DescriptionStyleModel",
      "state": {
       "description_width": ""
      }
     },
     "242a8bb8d1d344118034c15627097762": {
      "model_module": "@jupyter-widgets/base",
      "model_module_version": "1.2.0",
      "model_name": "LayoutModel",
      "state": {}
     },
     "25e6ba99842741f9beda377b344c6654": {
      "model_module": "@jupyter-widgets/controls",
      "model_module_version": "1.5.0",
      "model_name": "DescriptionStyleModel",
      "state": {
       "description_width": ""
      }
     },
     "2773b00d01cb4866826fd18518955782": {
      "model_module": "@jupyter-widgets/controls",
      "model_module_version": "1.5.0",
      "model_name": "IntTextModel",
      "state": {
       "layout": "IPY_MODEL_b98807c0eaa64ef9a841c8f8b56a3641",
       "step": 1,
       "style": "IPY_MODEL_ecad9f75519b4004a4c5971718bfac6e",
       "value": 6
      }
     },
     "298c7614609643d7af5fdc39f0ac4211": {
      "model_module": "@jupyter-widgets/controls",
      "model_module_version": "1.5.0",
      "model_name": "DropdownModel",
      "state": {
       "_options_labels": [
        "josquin_kyrie.musicxml",
        "morales_kyrie.musicxml"
       ],
       "description": "Selecciona una partitura:",
       "index": 1,
       "layout": "IPY_MODEL_7a3a66b3ab10463ab29a0359333c8aaa",
       "style": "IPY_MODEL_d552d640e47b485a8a3255fc469a3ab9"
      }
     },
     "29ce1592df004fb3b4f99e178b4fa741": {
      "model_module": "@jupyter-widgets/controls",
      "model_module_version": "1.5.0",
      "model_name": "DropdownModel",
      "state": {
       "_options_labels": [
        "josquin_kyrie.musicxml",
        "morales_kyrie.musicxml"
       ],
       "description": "Selecciona una partitura:",
       "index": 1,
       "layout": "IPY_MODEL_67dbaadba0e849aca2031679de285bec",
       "style": "IPY_MODEL_c77b5c62c3414594a8ff1a258803286a"
      }
     },
     "2d692165483f41bf812502559be1484c": {
      "model_module": "@jupyter-widgets/base",
      "model_module_version": "1.2.0",
      "model_name": "LayoutModel",
      "state": {}
     },
     "2f0307dd72594c52acc2bf83a40e75fd": {
      "model_module": "@jupyter-widgets/controls",
      "model_module_version": "1.5.0",
      "model_name": "SliderStyleModel",
      "state": {
       "description_width": ""
      }
     },
     "2f0817d1b2b4470592bc7ecf5acffdbe": {
      "model_module": "@jupyter-widgets/controls",
      "model_module_version": "1.5.0",
      "model_name": "DescriptionStyleModel",
      "state": {
       "description_width": ""
      }
     },
     "310255169f934d91b36bbfb094cfab62": {
      "model_module": "@jupyter-widgets/controls",
      "model_module_version": "1.5.0",
      "model_name": "LinkModel",
      "state": {
       "source": [
        "IPY_MODEL_2773b00d01cb4866826fd18518955782",
        "value"
       ],
       "target": [
        "IPY_MODEL_5c1297ef4bc8436cb6adf142690efaeb",
        "value"
       ]
      }
     },
     "323a383aaa22489492c4a82ce0c726aa": {
      "model_module": "@jupyter-widgets/controls",
      "model_module_version": "1.5.0",
      "model_name": "DescriptionStyleModel",
      "state": {
       "description_width": ""
      }
     },
     "32f86057f7ec49189019e5b27155c7a3": {
      "model_module": "@jupyter-widgets/controls",
      "model_module_version": "1.5.0",
      "model_name": "DescriptionStyleModel",
      "state": {
       "description_width": ""
      }
     },
     "33236daa941942aeabe80ee97dd2f4d0": {
      "model_module": "@jupyter-widgets/controls",
      "model_module_version": "1.5.0",
      "model_name": "DescriptionStyleModel",
      "state": {
       "description_width": ""
      }
     },
     "34e8ab9c710f4289ac68ce9c25d3c6d5": {
      "model_module": "@jupyter-widgets/controls",
      "model_module_version": "1.5.0",
      "model_name": "DescriptionStyleModel",
      "state": {
       "description_width": ""
      }
     },
     "369ff9b37bbe4b458dd57e87e85cb12d": {
      "model_module": "@jupyter-widgets/controls",
      "model_module_version": "1.5.0",
      "model_name": "DropdownModel",
      "state": {
       "_options_labels": [
        "josquin_kyrie.musicxml",
        "morales_kyrie.musicxml"
       ],
       "description": "Selecciona una partitura:",
       "index": 1,
       "layout": "IPY_MODEL_f9b67c1ee4154f4a9665e2d71482aa9f",
       "style": "IPY_MODEL_1b1b0610660d4f6c92f4c92736366f9e"
      }
     },
     "36c5729e0791438694bd5947361732ef": {
      "model_module": "@jupyter-widgets/controls",
      "model_module_version": "1.5.0",
      "model_name": "DescriptionStyleModel",
      "state": {
       "description_width": ""
      }
     },
     "37e97e87e2d5449fbdc412b2e7cb286a": {
      "model_module": "@jupyter-widgets/controls",
      "model_module_version": "1.5.0",
      "model_name": "LinkModel",
      "state": {
       "source": [
        "IPY_MODEL_3dd0806c469e445584399a36e3910969",
        "value"
       ],
       "target": [
        "IPY_MODEL_00ed24c706ce40fc88d12b05d2291461",
        "value"
       ]
      }
     },
     "3acdab490f214efd85f9f0e5d463e023": {
      "model_module": "@jupyter-widgets/controls",
      "model_module_version": "1.5.0",
      "model_name": "IntSliderModel",
      "state": {
       "layout": "IPY_MODEL_242a8bb8d1d344118034c15627097762",
       "max": 10,
       "style": "IPY_MODEL_4c7710628c2d4d9ea90f7f3f39fa6f02"
      }
     },
     "3b2e671bd0eb4ae28794df3e770c7ba1": {
      "model_module": "@jupyter-widgets/controls",
      "model_module_version": "1.5.0",
      "model_name": "DescriptionStyleModel",
      "state": {
       "description_width": ""
      }
     },
     "3dd0806c469e445584399a36e3910969": {
      "model_module": "@jupyter-widgets/controls",
      "model_module_version": "1.5.0",
      "model_name": "IntTextModel",
      "state": {
       "layout": "IPY_MODEL_ccd8374356f04947aad4650eceb6ce3f",
       "step": 1,
       "style": "IPY_MODEL_41ec1a1ed9104826a56c274a5b4aec38",
       "value": 6
      }
     },
     "3e9ecd3b218541209e617101e0aecda2": {
      "model_module": "@jupyter-widgets/controls",
      "model_module_version": "1.5.0",
      "model_name": "SliderStyleModel",
      "state": {
       "description_width": ""
      }
     },
     "3ec8d9ea248f45628026c58db34dec43": {
      "model_module": "@jupyter-widgets/controls",
      "model_module_version": "1.5.0",
      "model_name": "DescriptionStyleModel",
      "state": {
       "description_width": ""
      }
     },
     "3fdba36744ea40b3afe3761371f98ce6": {
      "model_module": "@jupyter-widgets/controls",
      "model_module_version": "1.5.0",
      "model_name": "DropdownModel",
      "state": {
       "_options_labels": [
        "josquin_kyrie.musicxml",
        "morales_kyrie.musicxml"
       ],
       "description": "Selecciona una partitura:",
       "index": 0,
       "layout": "IPY_MODEL_1f5a8c6c3d4a4ac8bf2e7d47c8437330",
       "style": "IPY_MODEL_5c6201efa3224bb398f386ab777445c0"
      }
     },
     "405a7784b69145328082144499942e7a": {
      "model_module": "@jupyter-widgets/base",
      "model_module_version": "1.2.0",
      "model_name": "LayoutModel",
      "state": {}
     },
     "41cf3415df094dfb99076ea48cce0a2a": {
      "model_module": "@jupyter-widgets/controls",
      "model_module_version": "1.5.0",
      "model_name": "DescriptionStyleModel",
      "state": {
       "description_width": ""
      }
     },
     "41ec1a1ed9104826a56c274a5b4aec38": {
      "model_module": "@jupyter-widgets/controls",
      "model_module_version": "1.5.0",
      "model_name": "DescriptionStyleModel",
      "state": {
       "description_width": ""
      }
     },
     "43e52ef4d74b48daaad21b7be8b142cc": {
      "model_module": "@jupyter-widgets/controls",
      "model_module_version": "1.5.0",
      "model_name": "DescriptionStyleModel",
      "state": {
       "description_width": ""
      }
     },
     "4544074a520440bf98f7aa29274eb478": {
      "model_module": "@jupyter-widgets/base",
      "model_module_version": "1.2.0",
      "model_name": "LayoutModel",
      "state": {}
     },
     "45ac8bf8ecb34cbba648341b1f6d1ad3": {
      "model_module": "@jupyter-widgets/controls",
      "model_module_version": "1.5.0",
      "model_name": "IntTextModel",
      "state": {
       "layout": "IPY_MODEL_2d692165483f41bf812502559be1484c",
       "step": 1,
       "style": "IPY_MODEL_8e406f6577bf44af89460b807900fe05",
       "value": 6
      }
     },
     "4657a8c6043645dcbf161bc246864084": {
      "model_module": "@jupyter-widgets/controls",
      "model_module_version": "1.5.0",
      "model_name": "SliderStyleModel",
      "state": {
       "description_width": ""
      }
     },
     "4709145bfd4d4b40bf4c419d74a76efe": {
      "model_module": "@jupyter-widgets/base",
      "model_module_version": "1.2.0",
      "model_name": "LayoutModel",
      "state": {}
     },
     "47281212dc514720ad4541a89a6be9a1": {
      "model_module": "@jupyter-widgets/base",
      "model_module_version": "1.2.0",
      "model_name": "LayoutModel",
      "state": {}
     },
     "48596ef6ec344bbaa319309da0e554ae": {
      "model_module": "@jupyter-widgets/controls",
      "model_module_version": "1.5.0",
      "model_name": "SliderStyleModel",
      "state": {
       "description_width": ""
      }
     },
     "4a578e6af2224397a883347a87c70fcd": {
      "model_module": "@jupyter-widgets/controls",
      "model_module_version": "1.5.0",
      "model_name": "SliderStyleModel",
      "state": {
       "description_width": ""
      }
     },
     "4b5171d12d214792a7cf4e38478046b4": {
      "model_module": "@jupyter-widgets/controls",
      "model_module_version": "1.5.0",
      "model_name": "DropdownModel",
      "state": {
       "_options_labels": [
        "josquin_kyrie.musicxml",
        "morales_kyrie.musicxml"
       ],
       "description": "Selecciona una partitura:",
       "index": 0,
       "layout": "IPY_MODEL_b3644d7569314293b456a2925f242747",
       "style": "IPY_MODEL_d131895b628f49c4a88396fbc7badcdf"
      }
     },
     "4b96be7a9ad4461ba9b61e40b13e02fa": {
      "model_module": "@jupyter-widgets/base",
      "model_module_version": "1.2.0",
      "model_name": "LayoutModel",
      "state": {}
     },
     "4c4323383405446e9cdef325e32c262d": {
      "model_module": "@jupyter-widgets/base",
      "model_module_version": "1.2.0",
      "model_name": "LayoutModel",
      "state": {}
     },
     "4c7710628c2d4d9ea90f7f3f39fa6f02": {
      "model_module": "@jupyter-widgets/controls",
      "model_module_version": "1.5.0",
      "model_name": "SliderStyleModel",
      "state": {
       "description_width": ""
      }
     },
     "4e493091bbde4c43bbdb13b60ed26722": {
      "model_module": "@jupyter-widgets/base",
      "model_module_version": "1.2.0",
      "model_name": "LayoutModel",
      "state": {}
     },
     "4f89944308af4b7d9b58955ba7bf3f20": {
      "model_module": "@jupyter-widgets/controls",
      "model_module_version": "1.5.0",
      "model_name": "DescriptionStyleModel",
      "state": {
       "description_width": ""
      }
     },
     "5119589d0fa84922a6003998ff1470f7": {
      "model_module": "@jupyter-widgets/controls",
      "model_module_version": "1.5.0",
      "model_name": "DropdownModel",
      "state": {
       "_options_labels": [
        "josquin_kyrie.musicxml",
        "morales_kyrie.musicxml"
       ],
       "description": "Selecciona una partitura:",
       "index": 0,
       "layout": "IPY_MODEL_e9f4e84eb48047128f7452100ea8662e",
       "style": "IPY_MODEL_0dc1188cc2914724b2e37ddcdeeb0ccc"
      }
     },
     "525bf84c31f54ff595fef037819d85b1": {
      "model_module": "@jupyter-widgets/base",
      "model_module_version": "1.2.0",
      "model_name": "LayoutModel",
      "state": {}
     },
     "55515748f7774267a5b7b80c40b81005": {
      "model_module": "@jupyter-widgets/controls",
      "model_module_version": "1.5.0",
      "model_name": "SliderStyleModel",
      "state": {
       "description_width": ""
      }
     },
     "55e474889269439f961d616496da7b1d": {
      "model_module": "@jupyter-widgets/controls",
      "model_module_version": "1.5.0",
      "model_name": "DropdownModel",
      "state": {
       "_options_labels": [
        "josquin_kyrie.musicxml",
        "morales_kyrie.musicxml"
       ],
       "description": "Selecciona una partitura:",
       "index": 0,
       "layout": "IPY_MODEL_64b97311f5f04cc688784ff7c42c44a6",
       "style": "IPY_MODEL_5ee7a0801e054b6ab5081636bf5b1efb"
      }
     },
     "578f63a12b2340c0a5c65d4dfc9d304c": {
      "model_module": "@jupyter-widgets/base",
      "model_module_version": "1.2.0",
      "model_name": "LayoutModel",
      "state": {}
     },
     "59cdbe22b1c049a0a660c9c04b487c31": {
      "model_module": "@jupyter-widgets/controls",
      "model_module_version": "1.5.0",
      "model_name": "IntSliderModel",
      "state": {
       "layout": "IPY_MODEL_8e07b0ff1bc94a14a04556e1309ecea0",
       "max": 10,
       "style": "IPY_MODEL_830f32fcfb3f4f37825a6c7a5e56981d",
       "value": 6
      }
     },
     "5a3691f6c2dc402b8ca6431da23c8e0c": {
      "model_module": "@jupyter-widgets/controls",
      "model_module_version": "1.5.0",
      "model_name": "DescriptionStyleModel",
      "state": {
       "description_width": ""
      }
     },
     "5bc0009be7ff4cccb92cd45b0df443dc": {
      "model_module": "@jupyter-widgets/base",
      "model_module_version": "1.2.0",
      "model_name": "LayoutModel",
      "state": {}
     },
     "5c1297ef4bc8436cb6adf142690efaeb": {
      "model_module": "@jupyter-widgets/controls",
      "model_module_version": "1.5.0",
      "model_name": "IntSliderModel",
      "state": {
       "layout": "IPY_MODEL_aa643e778c734bcaa68c1d9a80e4c2ad",
       "max": 10,
       "style": "IPY_MODEL_4657a8c6043645dcbf161bc246864084",
       "value": 6
      }
     },
     "5c6201efa3224bb398f386ab777445c0": {
      "model_module": "@jupyter-widgets/controls",
      "model_module_version": "1.5.0",
      "model_name": "DescriptionStyleModel",
      "state": {
       "description_width": ""
      }
     },
     "5e7330061289419ab9fd5b52e4f00399": {
      "model_module": "@jupyter-widgets/controls",
      "model_module_version": "1.5.0",
      "model_name": "IntTextModel",
      "state": {
       "layout": "IPY_MODEL_c7db6558c76a4cb290c899beb5dff343",
       "step": 1,
       "style": "IPY_MODEL_6dab4c8f08e44bccb5cfc1b2869c9529",
       "value": 8
      }
     },
     "5ec61238c2e2476bb06bf995f3d7b91a": {
      "model_module": "@jupyter-widgets/controls",
      "model_module_version": "1.5.0",
      "model_name": "IntSliderModel",
      "state": {
       "layout": "IPY_MODEL_74c7607cd7a74dadbe436fe1aab278e2",
       "max": 10,
       "style": "IPY_MODEL_63590d9d8e764fed8f2d5d6cc65f4527",
       "value": 6
      }
     },
     "5ee7a0801e054b6ab5081636bf5b1efb": {
      "model_module": "@jupyter-widgets/controls",
      "model_module_version": "1.5.0",
      "model_name": "DescriptionStyleModel",
      "state": {
       "description_width": ""
      }
     },
     "607f94c9bc33465dac050acdbe2738c8": {
      "model_module": "@jupyter-widgets/base",
      "model_module_version": "1.2.0",
      "model_name": "LayoutModel",
      "state": {}
     },
     "614ed18ef38a46ac86722c75a719a90d": {
      "model_module": "@jupyter-widgets/base",
      "model_module_version": "1.2.0",
      "model_name": "LayoutModel",
      "state": {}
     },
     "63590d9d8e764fed8f2d5d6cc65f4527": {
      "model_module": "@jupyter-widgets/controls",
      "model_module_version": "1.5.0",
      "model_name": "SliderStyleModel",
      "state": {
       "description_width": ""
      }
     },
     "64b97311f5f04cc688784ff7c42c44a6": {
      "model_module": "@jupyter-widgets/base",
      "model_module_version": "1.2.0",
      "model_name": "LayoutModel",
      "state": {}
     },
     "67dbaadba0e849aca2031679de285bec": {
      "model_module": "@jupyter-widgets/base",
      "model_module_version": "1.2.0",
      "model_name": "LayoutModel",
      "state": {}
     },
     "68f18b9bce3d4815a0c46ae1226fd4e1": {
      "model_module": "@jupyter-widgets/controls",
      "model_module_version": "1.5.0",
      "model_name": "LinkModel",
      "state": {
       "source": [
        "IPY_MODEL_e45952c14ab34f5db2da2d4eeb411a14",
        "value"
       ],
       "target": [
        "IPY_MODEL_8c39dd3bc8ec4533bf44d4ba7790df11",
        "value"
       ]
      }
     },
     "6ad085a2677b46b29a77c6b28e9d8042": {
      "model_module": "@jupyter-widgets/base",
      "model_module_version": "1.2.0",
      "model_name": "LayoutModel",
      "state": {}
     },
     "6b752b51d61b4d4eb6f3f507eae8c298": {
      "model_module": "@jupyter-widgets/controls",
      "model_module_version": "1.5.0",
      "model_name": "DropdownModel",
      "state": {
       "_options_labels": [
        "josquin_kyrie.musicxml",
        "morales_kyrie.musicxml"
       ],
       "description": "Selecciona una partitura:",
       "index": 1,
       "layout": "IPY_MODEL_bb0a286b1aab4f30b65500d340ead8a9",
       "style": "IPY_MODEL_33236daa941942aeabe80ee97dd2f4d0"
      }
     },
     "6d895e5cef724b629dc47df95a51a477": {
      "model_module": "@jupyter-widgets/base",
      "model_module_version": "1.2.0",
      "model_name": "LayoutModel",
      "state": {}
     },
     "6dab4c8f08e44bccb5cfc1b2869c9529": {
      "model_module": "@jupyter-widgets/controls",
      "model_module_version": "1.5.0",
      "model_name": "DescriptionStyleModel",
      "state": {
       "description_width": ""
      }
     },
     "6ffa0784f88f4c7f9e4659156af98775": {
      "model_module": "@jupyter-widgets/base",
      "model_module_version": "1.2.0",
      "model_name": "LayoutModel",
      "state": {}
     },
     "71cd81840120449486fd397bf280172e": {
      "model_module": "@jupyter-widgets/controls",
      "model_module_version": "1.5.0",
      "model_name": "IntSliderModel",
      "state": {
       "layout": "IPY_MODEL_c9ef0bd54aa5467596e2fcdd4dd08ad9",
       "max": 10,
       "style": "IPY_MODEL_48596ef6ec344bbaa319309da0e554ae"
      }
     },
     "74c7607cd7a74dadbe436fe1aab278e2": {
      "model_module": "@jupyter-widgets/base",
      "model_module_version": "1.2.0",
      "model_name": "LayoutModel",
      "state": {}
     },
     "74f09003a8ca43b29ba84e0f0f09fe81": {
      "model_module": "@jupyter-widgets/controls",
      "model_module_version": "1.5.0",
      "model_name": "LinkModel",
      "state": {
       "source": [
        "IPY_MODEL_f97186925bf74411864c9362a666e5fc",
        "value"
       ],
       "target": [
        "IPY_MODEL_ed810bfdb2094c698cf769fad980b989",
        "value"
       ]
      }
     },
     "7560708620ff473c8def409061ae42b7": {
      "model_module": "@jupyter-widgets/controls",
      "model_module_version": "1.5.0",
      "model_name": "IntTextModel",
      "state": {
       "layout": "IPY_MODEL_22ab1c1ca5974f5fa34f1a24f08d5a78",
       "step": 1,
       "style": "IPY_MODEL_3b2e671bd0eb4ae28794df3e770c7ba1",
       "value": 6
      }
     },
     "77b6f55b7dc0433fa2fa98b942b38ad7": {
      "model_module": "@jupyter-widgets/base",
      "model_module_version": "1.2.0",
      "model_name": "LayoutModel",
      "state": {}
     },
     "788d6cf814d24b21ae8139f836a23188": {
      "model_module": "@jupyter-widgets/controls",
      "model_module_version": "1.5.0",
      "model_name": "DescriptionStyleModel",
      "state": {
       "description_width": ""
      }
     },
     "7a3a66b3ab10463ab29a0359333c8aaa": {
      "model_module": "@jupyter-widgets/base",
      "model_module_version": "1.2.0",
      "model_name": "LayoutModel",
      "state": {}
     },
     "7a9df1826c8c4ad1ab299bc9d693f027": {
      "model_module": "@jupyter-widgets/controls",
      "model_module_version": "1.5.0",
      "model_name": "DescriptionStyleModel",
      "state": {
       "description_width": ""
      }
     },
     "7acca89f6a7f4eb9843d6daf462c9f05": {
      "model_module": "@jupyter-widgets/controls",
      "model_module_version": "1.5.0",
      "model_name": "DropdownModel",
      "state": {
       "_options_labels": [
        "josquin_kyrie.musicxml",
        "morales_kyrie.musicxml"
       ],
       "description": "Selecciona una partitura:",
       "index": 1,
       "layout": "IPY_MODEL_7ea32775eefe4ea7b3d0bafbffd2010a",
       "style": "IPY_MODEL_25e6ba99842741f9beda377b344c6654"
      }
     },
     "7c79490b674a459f99aebb8df0636c36": {
      "model_module": "@jupyter-widgets/controls",
      "model_module_version": "1.5.0",
      "model_name": "DropdownModel",
      "state": {
       "_options_labels": [
        "josquin_kyrie.musicxml",
        "morales_kyrie.musicxml"
       ],
       "description": "Selecciona una partitura:",
       "index": 1,
       "layout": "IPY_MODEL_b9d9e6d4adf34d3088b0a54e1cb44a4b",
       "style": "IPY_MODEL_3ec8d9ea248f45628026c58db34dec43"
      }
     },
     "7ea32775eefe4ea7b3d0bafbffd2010a": {
      "model_module": "@jupyter-widgets/base",
      "model_module_version": "1.2.0",
      "model_name": "LayoutModel",
      "state": {}
     },
     "7f7632bc745a4d7d92f311aaf5a15968": {
      "model_module": "@jupyter-widgets/controls",
      "model_module_version": "1.5.0",
      "model_name": "DropdownModel",
      "state": {
       "_options_labels": [
        "josquin_kyrie.musicxml",
        "morales_kyrie.musicxml"
       ],
       "description": "Selecciona una partitura:",
       "index": 0,
       "layout": "IPY_MODEL_578f63a12b2340c0a5c65d4dfc9d304c",
       "style": "IPY_MODEL_34e8ab9c710f4289ac68ce9c25d3c6d5"
      }
     },
     "7fa85c4e4c16440e830bab8b90fac4d1": {
      "model_module": "@jupyter-widgets/controls",
      "model_module_version": "1.5.0",
      "model_name": "LinkModel",
      "state": {
       "source": [
        "IPY_MODEL_d1dd2ac518b4493b9d408777d0136fc0",
        "value"
       ],
       "target": [
        "IPY_MODEL_71cd81840120449486fd397bf280172e",
        "value"
       ]
      }
     },
     "82ceb29db1e34468943cfb061150df7a": {
      "model_module": "@jupyter-widgets/controls",
      "model_module_version": "1.5.0",
      "model_name": "LinkModel",
      "state": {
       "source": [
        "IPY_MODEL_ae8c5fa6a55d4b7086ca123d46f7ba8b",
        "value"
       ],
       "target": [
        "IPY_MODEL_9f1c6d43e3984e378cc6e7f0ba33e958",
        "value"
       ]
      }
     },
     "830f32fcfb3f4f37825a6c7a5e56981d": {
      "model_module": "@jupyter-widgets/controls",
      "model_module_version": "1.5.0",
      "model_name": "SliderStyleModel",
      "state": {
       "description_width": ""
      }
     },
     "83c168e3b82349baac7f05c51589ad5d": {
      "model_module": "@jupyter-widgets/controls",
      "model_module_version": "1.5.0",
      "model_name": "IntSliderModel",
      "state": {
       "layout": "IPY_MODEL_eb127e8e928f4b74bc6ff87d5d416f7e",
       "max": 10,
       "style": "IPY_MODEL_aa1f128bbbd641489847db474b77e500",
       "value": 8
      }
     },
     "850cdff56f204f5888c6b01e065036b7": {
      "model_module": "@jupyter-widgets/controls",
      "model_module_version": "1.5.0",
      "model_name": "LinkModel",
      "state": {
       "source": [
        "IPY_MODEL_d066bda2c154463bb9e339e106d19e1e",
        "value"
       ],
       "target": [
        "IPY_MODEL_5ec61238c2e2476bb06bf995f3d7b91a",
        "value"
       ]
      }
     },
     "89c127de48ec44e591ede64c29bc3a35": {
      "model_module": "@jupyter-widgets/controls",
      "model_module_version": "1.5.0",
      "model_name": "LinkModel",
      "state": {
       "source": [
        "IPY_MODEL_9e15255c3ab849e3a741948264740ef0",
        "value"
       ],
       "target": [
        "IPY_MODEL_3acdab490f214efd85f9f0e5d463e023",
        "value"
       ]
      }
     },
     "8a7f604450204d3183872413cc8937b2": {
      "model_module": "@jupyter-widgets/controls",
      "model_module_version": "1.5.0",
      "model_name": "DescriptionStyleModel",
      "state": {
       "description_width": ""
      }
     },
     "8b3ed60a53754238a7e50bd7eef0d595": {
      "model_module": "@jupyter-widgets/controls",
      "model_module_version": "1.5.0",
      "model_name": "DescriptionStyleModel",
      "state": {
       "description_width": ""
      }
     },
     "8c39dd3bc8ec4533bf44d4ba7790df11": {
      "model_module": "@jupyter-widgets/controls",
      "model_module_version": "1.5.0",
      "model_name": "IntSliderModel",
      "state": {
       "layout": "IPY_MODEL_607f94c9bc33465dac050acdbe2738c8",
       "max": 10,
       "style": "IPY_MODEL_baabefc817464a54b38d98cbbe640155",
       "value": 6
      }
     },
     "8e07b0ff1bc94a14a04556e1309ecea0": {
      "model_module": "@jupyter-widgets/base",
      "model_module_version": "1.2.0",
      "model_name": "LayoutModel",
      "state": {}
     },
     "8e406f6577bf44af89460b807900fe05": {
      "model_module": "@jupyter-widgets/controls",
      "model_module_version": "1.5.0",
      "model_name": "DescriptionStyleModel",
      "state": {
       "description_width": ""
      }
     },
     "909a10f0c77f4a8099fdba1bc4153123": {
      "model_module": "@jupyter-widgets/controls",
      "model_module_version": "1.5.0",
      "model_name": "DescriptionStyleModel",
      "state": {
       "description_width": ""
      }
     },
     "9334a053684b44fcb740fc2395b52bcd": {
      "model_module": "@jupyter-widgets/base",
      "model_module_version": "1.2.0",
      "model_name": "LayoutModel",
      "state": {}
     },
     "9e15255c3ab849e3a741948264740ef0": {
      "model_module": "@jupyter-widgets/controls",
      "model_module_version": "1.5.0",
      "model_name": "IntTextModel",
      "state": {
       "layout": "IPY_MODEL_bbf24cbbc94b4e3e9dd39e63b1fba586",
       "step": 1,
       "style": "IPY_MODEL_788d6cf814d24b21ae8139f836a23188"
      }
     },
     "9e75f3fb0934400ebfee4cf63571afe1": {
      "model_module": "@jupyter-widgets/controls",
      "model_module_version": "1.5.0",
      "model_name": "IntSliderModel",
      "state": {
       "layout": "IPY_MODEL_6ad085a2677b46b29a77c6b28e9d8042",
       "max": 10,
       "style": "IPY_MODEL_bdd6a81cb5274cc8912803a85e9d7cab",
       "value": 6
      }
     },
     "9f1c6d43e3984e378cc6e7f0ba33e958": {
      "model_module": "@jupyter-widgets/controls",
      "model_module_version": "1.5.0",
      "model_name": "IntSliderModel",
      "state": {
       "layout": "IPY_MODEL_1e7a6dc659de4439bb73ea7f6eef17ae",
       "max": 10,
       "style": "IPY_MODEL_4a578e6af2224397a883347a87c70fcd"
      }
     },
     "a015e78cc86a4240a1aa6f6c2a5373db": {
      "model_module": "@jupyter-widgets/controls",
      "model_module_version": "1.5.0",
      "model_name": "DescriptionStyleModel",
      "state": {
       "description_width": ""
      }
     },
     "a0658b9806bc45e8a206b784cf6831c4": {
      "model_module": "@jupyter-widgets/controls",
      "model_module_version": "1.5.0",
      "model_name": "DescriptionStyleModel",
      "state": {
       "description_width": ""
      }
     },
     "a27910384f7c4681872a2cceae8df392": {
      "model_module": "@jupyter-widgets/controls",
      "model_module_version": "1.5.0",
      "model_name": "IntTextModel",
      "state": {
       "layout": "IPY_MODEL_4709145bfd4d4b40bf4c419d74a76efe",
       "step": 1,
       "style": "IPY_MODEL_1645d123b7ef4252abb6fb2cb09a15db",
       "value": 6
      }
     },
     "a4eced7d54ec4c69a8ac6fc820d2ad87": {
      "model_module": "@jupyter-widgets/base",
      "model_module_version": "1.2.0",
      "model_name": "LayoutModel",
      "state": {}
     },
     "a69c49cffd3b470ba7102c6110f02f87": {
      "model_module": "@jupyter-widgets/controls",
      "model_module_version": "1.5.0",
      "model_name": "LinkModel",
      "state": {
       "source": [
        "IPY_MODEL_7560708620ff473c8def409061ae42b7",
        "value"
       ],
       "target": [
        "IPY_MODEL_9e75f3fb0934400ebfee4cf63571afe1",
        "value"
       ]
      }
     },
     "aa1c8738fd6047a7ba8603e590158bd1": {
      "model_module": "@jupyter-widgets/controls",
      "model_module_version": "1.5.0",
      "model_name": "LinkModel",
      "state": {
       "source": [
        "IPY_MODEL_a27910384f7c4681872a2cceae8df392",
        "value"
       ],
       "target": [
        "IPY_MODEL_1a76eced298349e98a44bf923f901eb3",
        "value"
       ]
      }
     },
     "aa1f128bbbd641489847db474b77e500": {
      "model_module": "@jupyter-widgets/controls",
      "model_module_version": "1.5.0",
      "model_name": "SliderStyleModel",
      "state": {
       "description_width": ""
      }
     },
     "aa643e778c734bcaa68c1d9a80e4c2ad": {
      "model_module": "@jupyter-widgets/base",
      "model_module_version": "1.2.0",
      "model_name": "LayoutModel",
      "state": {}
     },
     "aaea9753ce344bc5bf28b87dc0478a29": {
      "model_module": "@jupyter-widgets/controls",
      "model_module_version": "1.5.0",
      "model_name": "DescriptionStyleModel",
      "state": {
       "description_width": ""
      }
     },
     "ac60b9d3aecc4d5495899061736257ab": {
      "model_module": "@jupyter-widgets/base",
      "model_module_version": "1.2.0",
      "model_name": "LayoutModel",
      "state": {}
     },
     "ac98e291f66e4f599e2555c8f275a9e7": {
      "model_module": "@jupyter-widgets/controls",
      "model_module_version": "1.5.0",
      "model_name": "SliderStyleModel",
      "state": {
       "description_width": ""
      }
     },
     "ae8c5fa6a55d4b7086ca123d46f7ba8b": {
      "model_module": "@jupyter-widgets/controls",
      "model_module_version": "1.5.0",
      "model_name": "IntTextModel",
      "state": {
       "layout": "IPY_MODEL_b53e3f1c22f743179b9cd5e938a7aa15",
       "step": 1,
       "style": "IPY_MODEL_5a3691f6c2dc402b8ca6431da23c8e0c"
      }
     },
     "af400d24598b420e829dc7c2a850e960": {
      "model_module": "@jupyter-widgets/base",
      "model_module_version": "1.2.0",
      "model_name": "LayoutModel",
      "state": {}
     },
     "b0692cb1bcc547a590bc2e517434b462": {
      "model_module": "@jupyter-widgets/controls",
      "model_module_version": "1.5.0",
      "model_name": "DropdownModel",
      "state": {
       "_options_labels": [
        "josquin_kyrie.musicxml",
        "morales_kyrie.musicxml"
       ],
       "description": "Selecciona una partitura:",
       "index": 1,
       "layout": "IPY_MODEL_4544074a520440bf98f7aa29274eb478",
       "style": "IPY_MODEL_03b227b04dc54c33a7bcf885ad0e4617"
      }
     },
     "b34b78d18ac5481cb727f216523fa9aa": {
      "model_module": "@jupyter-widgets/base",
      "model_module_version": "1.2.0",
      "model_name": "LayoutModel",
      "state": {}
     },
     "b3644d7569314293b456a2925f242747": {
      "model_module": "@jupyter-widgets/base",
      "model_module_version": "1.2.0",
      "model_name": "LayoutModel",
      "state": {}
     },
     "b53e3f1c22f743179b9cd5e938a7aa15": {
      "model_module": "@jupyter-widgets/base",
      "model_module_version": "1.2.0",
      "model_name": "LayoutModel",
      "state": {}
     },
     "b557cafe0af54a20a318116bce5dfd14": {
      "model_module": "@jupyter-widgets/controls",
      "model_module_version": "1.5.0",
      "model_name": "DropdownModel",
      "state": {
       "_options_labels": [
        "josquin_kyrie.musicxml",
        "morales_kyrie.musicxml"
       ],
       "description": "Selecciona una partitura:",
       "index": 1,
       "layout": "IPY_MODEL_ac60b9d3aecc4d5495899061736257ab",
       "style": "IPY_MODEL_aaea9753ce344bc5bf28b87dc0478a29"
      }
     },
     "b5c2c3e5aaf348bfa5d285bf8db9c7e0": {
      "model_module": "@jupyter-widgets/controls",
      "model_module_version": "1.5.0",
      "model_name": "LinkModel",
      "state": {
       "source": [
        "IPY_MODEL_45ac8bf8ecb34cbba648341b1f6d1ad3",
        "value"
       ],
       "target": [
        "IPY_MODEL_15aa668d383f44bd9416ad082ebeda8f",
        "value"
       ]
      }
     },
     "b7658c99f61342eea4ffee24c95040a0": {
      "model_module": "@jupyter-widgets/base",
      "model_module_version": "1.2.0",
      "model_name": "LayoutModel",
      "state": {}
     },
     "b98807c0eaa64ef9a841c8f8b56a3641": {
      "model_module": "@jupyter-widgets/base",
      "model_module_version": "1.2.0",
      "model_name": "LayoutModel",
      "state": {}
     },
     "b9d9e6d4adf34d3088b0a54e1cb44a4b": {
      "model_module": "@jupyter-widgets/base",
      "model_module_version": "1.2.0",
      "model_name": "LayoutModel",
      "state": {}
     },
     "baabefc817464a54b38d98cbbe640155": {
      "model_module": "@jupyter-widgets/controls",
      "model_module_version": "1.5.0",
      "model_name": "SliderStyleModel",
      "state": {
       "description_width": ""
      }
     },
     "bb0a286b1aab4f30b65500d340ead8a9": {
      "model_module": "@jupyter-widgets/base",
      "model_module_version": "1.2.0",
      "model_name": "LayoutModel",
      "state": {}
     },
     "bbf24cbbc94b4e3e9dd39e63b1fba586": {
      "model_module": "@jupyter-widgets/base",
      "model_module_version": "1.2.0",
      "model_name": "LayoutModel",
      "state": {}
     },
     "bc038d970e884aedb283bcd1f95874d6": {
      "model_module": "@jupyter-widgets/base",
      "model_module_version": "1.2.0",
      "model_name": "LayoutModel",
      "state": {}
     },
     "bd81ac949b34414a8d720f03a780e899": {
      "model_module": "@jupyter-widgets/controls",
      "model_module_version": "1.5.0",
      "model_name": "LinkModel",
      "state": {
       "source": [
        "IPY_MODEL_0123bcd6133b4c35ab28efa72cab7faf",
        "value"
       ],
       "target": [
        "IPY_MODEL_12d76e2733cb424398570c51779fb055",
        "value"
       ]
      }
     },
     "bdd6a81cb5274cc8912803a85e9d7cab": {
      "model_module": "@jupyter-widgets/controls",
      "model_module_version": "1.5.0",
      "model_name": "SliderStyleModel",
      "state": {
       "description_width": ""
      }
     },
     "bf88abdfd880470d836e65eea5c01e7d": {
      "model_module": "@jupyter-widgets/base",
      "model_module_version": "1.2.0",
      "model_name": "LayoutModel",
      "state": {}
     },
     "c1ee5d32a26e4ee89d4c99f6332f0217": {
      "model_module": "@jupyter-widgets/base",
      "model_module_version": "1.2.0",
      "model_name": "LayoutModel",
      "state": {}
     },
     "c6410301dc884bf6a68eb7c608815878": {
      "model_module": "@jupyter-widgets/base",
      "model_module_version": "1.2.0",
      "model_name": "LayoutModel",
      "state": {}
     },
     "c77b5c62c3414594a8ff1a258803286a": {
      "model_module": "@jupyter-widgets/controls",
      "model_module_version": "1.5.0",
      "model_name": "DescriptionStyleModel",
      "state": {
       "description_width": ""
      }
     },
     "c7db6558c76a4cb290c899beb5dff343": {
      "model_module": "@jupyter-widgets/base",
      "model_module_version": "1.2.0",
      "model_name": "LayoutModel",
      "state": {}
     },
     "c9a5b84ad0cf434cac1c27100cc6587d": {
      "model_module": "@jupyter-widgets/controls",
      "model_module_version": "1.5.0",
      "model_name": "LinkModel",
      "state": {
       "source": [
        "IPY_MODEL_5e7330061289419ab9fd5b52e4f00399",
        "value"
       ],
       "target": [
        "IPY_MODEL_83c168e3b82349baac7f05c51589ad5d",
        "value"
       ]
      }
     },
     "c9ef0bd54aa5467596e2fcdd4dd08ad9": {
      "model_module": "@jupyter-widgets/base",
      "model_module_version": "1.2.0",
      "model_name": "LayoutModel",
      "state": {}
     },
     "ca480e99384c48de97ad9e91130e3471": {
      "model_module": "@jupyter-widgets/controls",
      "model_module_version": "1.5.0",
      "model_name": "DropdownModel",
      "state": {
       "_options_labels": [
        "josquin_kyrie.musicxml",
        "morales_kyrie.musicxml"
       ],
       "description": "Selecciona una partitura:",
       "index": 1,
       "layout": "IPY_MODEL_614ed18ef38a46ac86722c75a719a90d",
       "style": "IPY_MODEL_909a10f0c77f4a8099fdba1bc4153123"
      }
     },
     "cb9f9f091a784f2f9273f41c509114ae": {
      "model_module": "@jupyter-widgets/base",
      "model_module_version": "1.2.0",
      "model_name": "LayoutModel",
      "state": {}
     },
     "ccd8374356f04947aad4650eceb6ce3f": {
      "model_module": "@jupyter-widgets/base",
      "model_module_version": "1.2.0",
      "model_name": "LayoutModel",
      "state": {}
     },
     "cd0d1161236941c9b7c6e458849bd361": {
      "model_module": "@jupyter-widgets/controls",
      "model_module_version": "1.5.0",
      "model_name": "DescriptionStyleModel",
      "state": {
       "description_width": ""
      }
     },
     "d066bda2c154463bb9e339e106d19e1e": {
      "model_module": "@jupyter-widgets/controls",
      "model_module_version": "1.5.0",
      "model_name": "IntTextModel",
      "state": {
       "layout": "IPY_MODEL_405a7784b69145328082144499942e7a",
       "step": 1,
       "style": "IPY_MODEL_2f0817d1b2b4470592bc7ecf5acffdbe",
       "value": 6
      }
     },
     "d131895b628f49c4a88396fbc7badcdf": {
      "model_module": "@jupyter-widgets/controls",
      "model_module_version": "1.5.0",
      "model_name": "DescriptionStyleModel",
      "state": {
       "description_width": ""
      }
     },
     "d1dd2ac518b4493b9d408777d0136fc0": {
      "model_module": "@jupyter-widgets/controls",
      "model_module_version": "1.5.0",
      "model_name": "IntTextModel",
      "state": {
       "layout": "IPY_MODEL_4b96be7a9ad4461ba9b61e40b13e02fa",
       "step": 1,
       "style": "IPY_MODEL_a015e78cc86a4240a1aa6f6c2a5373db"
      }
     },
     "d552d640e47b485a8a3255fc469a3ab9": {
      "model_module": "@jupyter-widgets/controls",
      "model_module_version": "1.5.0",
      "model_name": "DescriptionStyleModel",
      "state": {
       "description_width": ""
      }
     },
     "da2ad4d03ea648a68c037b84165029b1": {
      "model_module": "@jupyter-widgets/controls",
      "model_module_version": "1.5.0",
      "model_name": "DropdownModel",
      "state": {
       "_options_labels": [
        "josquin_kyrie.musicxml",
        "morales_kyrie.musicxml"
       ],
       "description": "Selecciona una partitura:",
       "index": 0,
       "layout": "IPY_MODEL_b7658c99f61342eea4ffee24c95040a0",
       "style": "IPY_MODEL_36c5729e0791438694bd5947361732ef"
      }
     },
     "da96b6797c35416995556fe48397c2aa": {
      "model_module": "@jupyter-widgets/base",
      "model_module_version": "1.2.0",
      "model_name": "LayoutModel",
      "state": {}
     },
     "dd0c809b0d19467c80ee999359e66542": {
      "model_module": "@jupyter-widgets/controls",
      "model_module_version": "1.5.0",
      "model_name": "DropdownModel",
      "state": {
       "_options_labels": [
        "josquin_kyrie.musicxml",
        "morales_kyrie.musicxml"
       ],
       "description": "Selecciona una partitura:",
       "index": 0,
       "layout": "IPY_MODEL_f4cee02f40ff4d0c9986e6ac626acb78",
       "style": "IPY_MODEL_8b3ed60a53754238a7e50bd7eef0d595"
      }
     },
     "de808d61bdb0457686064cec6938e189": {
      "model_module": "@jupyter-widgets/controls",
      "model_module_version": "1.5.0",
      "model_name": "DescriptionStyleModel",
      "state": {
       "description_width": ""
      }
     },
     "df603610fa56409fb4fcc3829bd67247": {
      "model_module": "@jupyter-widgets/controls",
      "model_module_version": "1.5.0",
      "model_name": "DropdownModel",
      "state": {
       "_options_labels": [
        "josquin_kyrie.musicxml",
        "morales_kyrie.musicxml"
       ],
       "description": "Selecciona una partitura:",
       "index": 0,
       "layout": "IPY_MODEL_5bc0009be7ff4cccb92cd45b0df443dc",
       "style": "IPY_MODEL_19e6df60d5be4ea7a9f36584fb84c71d"
      }
     },
     "e45952c14ab34f5db2da2d4eeb411a14": {
      "model_module": "@jupyter-widgets/controls",
      "model_module_version": "1.5.0",
      "model_name": "IntTextModel",
      "state": {
       "layout": "IPY_MODEL_a4eced7d54ec4c69a8ac6fc820d2ad87",
       "step": 1,
       "style": "IPY_MODEL_04bd7b64968c456e9fc805ec07006e21",
       "value": 6
      }
     },
     "e9f4e84eb48047128f7452100ea8662e": {
      "model_module": "@jupyter-widgets/base",
      "model_module_version": "1.2.0",
      "model_name": "LayoutModel",
      "state": {}
     },
     "eb127e8e928f4b74bc6ff87d5d416f7e": {
      "model_module": "@jupyter-widgets/base",
      "model_module_version": "1.2.0",
      "model_name": "LayoutModel",
      "state": {}
     },
     "eb6bba7b72534ca98ee441c449f9867f": {
      "model_module": "@jupyter-widgets/controls",
      "model_module_version": "1.5.0",
      "model_name": "LinkModel",
      "state": {
       "source": [
        "IPY_MODEL_19b4377a381f46279d56b81af2f45fe7",
        "value"
       ],
       "target": [
        "IPY_MODEL_59cdbe22b1c049a0a660c9c04b487c31",
        "value"
       ]
      }
     },
     "ecad9f75519b4004a4c5971718bfac6e": {
      "model_module": "@jupyter-widgets/controls",
      "model_module_version": "1.5.0",
      "model_name": "DescriptionStyleModel",
      "state": {
       "description_width": ""
      }
     },
     "ece7155653f14e15bc1248a941e5dd87": {
      "model_module": "@jupyter-widgets/base",
      "model_module_version": "1.2.0",
      "model_name": "LayoutModel",
      "state": {}
     },
     "ed810bfdb2094c698cf769fad980b989": {
      "model_module": "@jupyter-widgets/controls",
      "model_module_version": "1.5.0",
      "model_name": "IntSliderModel",
      "state": {
       "layout": "IPY_MODEL_6d895e5cef724b629dc47df95a51a477",
       "max": 10,
       "style": "IPY_MODEL_09be8f1c1df844278ac8b94f1e8489a1",
       "value": 6
      }
     },
     "efbf74258ea645bab75d34d3cb563353": {
      "model_module": "@jupyter-widgets/base",
      "model_module_version": "1.2.0",
      "model_name": "LayoutModel",
      "state": {}
     },
     "f22bbd02e6f348148c1f5d9b56dd28a5": {
      "model_module": "@jupyter-widgets/controls",
      "model_module_version": "1.5.0",
      "model_name": "DescriptionStyleModel",
      "state": {
       "description_width": ""
      }
     },
     "f32d003b0da34a4ebb835d497bda8cc9": {
      "model_module": "@jupyter-widgets/controls",
      "model_module_version": "1.5.0",
      "model_name": "DropdownModel",
      "state": {
       "_options_labels": [
        "josquin_kyrie.musicxml",
        "morales_kyrie.musicxml"
       ],
       "description": "Selecciona una partitura:",
       "index": 0,
       "layout": "IPY_MODEL_c6410301dc884bf6a68eb7c608815878",
       "style": "IPY_MODEL_4f89944308af4b7d9b58955ba7bf3f20"
      }
     },
     "f347180c1ac14915a8dbd8c81645343e": {
      "model_module": "@jupyter-widgets/controls",
      "model_module_version": "1.5.0",
      "model_name": "DropdownModel",
      "state": {
       "_options_labels": [
        "josquin_kyrie.musicxml",
        "morales_kyrie.musicxml"
       ],
       "description": "Selecciona una partitura:",
       "index": 1,
       "layout": "IPY_MODEL_bc038d970e884aedb283bcd1f95874d6",
       "style": "IPY_MODEL_de808d61bdb0457686064cec6938e189"
      }
     },
     "f379c8c3646f4a6496b0bd1c18e675e0": {
      "model_module": "@jupyter-widgets/controls",
      "model_module_version": "1.5.0",
      "model_name": "DescriptionStyleModel",
      "state": {
       "description_width": ""
      }
     },
     "f4cee02f40ff4d0c9986e6ac626acb78": {
      "model_module": "@jupyter-widgets/base",
      "model_module_version": "1.2.0",
      "model_name": "LayoutModel",
      "state": {}
     },
     "f60f5a42886f449e8247f542a87f0ceb": {
      "model_module": "@jupyter-widgets/base",
      "model_module_version": "1.2.0",
      "model_name": "LayoutModel",
      "state": {}
     },
     "f769c9ddff3849fe9d6f1bcdb588704d": {
      "model_module": "@jupyter-widgets/controls",
      "model_module_version": "1.5.0",
      "model_name": "DropdownModel",
      "state": {
       "_options_labels": [
        "josquin_kyrie.musicxml",
        "morales_kyrie.musicxml"
       ],
       "description": "Selecciona una partitura:",
       "index": 1,
       "layout": "IPY_MODEL_ece7155653f14e15bc1248a941e5dd87",
       "style": "IPY_MODEL_223f9b3e393d42e8a54764a77bb25ab8"
      }
     },
     "f80ffbc9d30b46d0ab03063cd0330f8f": {
      "model_module": "@jupyter-widgets/controls",
      "model_module_version": "1.5.0",
      "model_name": "DropdownModel",
      "state": {
       "_options_labels": [
        "josquin_kyrie.musicxml",
        "morales_kyrie.musicxml"
       ],
       "description": "Selecciona una partitura:",
       "index": 1,
       "layout": "IPY_MODEL_77b6f55b7dc0433fa2fa98b942b38ad7",
       "style": "IPY_MODEL_f379c8c3646f4a6496b0bd1c18e675e0"
      }
     },
     "f97186925bf74411864c9362a666e5fc": {
      "model_module": "@jupyter-widgets/controls",
      "model_module_version": "1.5.0",
      "model_name": "IntTextModel",
      "state": {
       "layout": "IPY_MODEL_525bf84c31f54ff595fef037819d85b1",
       "step": 1,
       "style": "IPY_MODEL_43e52ef4d74b48daaad21b7be8b142cc",
       "value": 6
      }
     },
     "f9b67c1ee4154f4a9665e2d71482aa9f": {
      "model_module": "@jupyter-widgets/base",
      "model_module_version": "1.2.0",
      "model_name": "LayoutModel",
      "state": {}
     },
     "fb51eaf1c315469484a4a591736d8216": {
      "model_module": "@jupyter-widgets/controls",
      "model_module_version": "1.5.0",
      "model_name": "DropdownModel",
      "state": {
       "_options_labels": [
        "josquin_kyrie.musicxml",
        "morales_kyrie.musicxml"
       ],
       "description": "Selecciona una partitura:",
       "index": 0,
       "layout": "IPY_MODEL_9334a053684b44fcb740fc2395b52bcd",
       "style": "IPY_MODEL_41cf3415df094dfb99076ea48cce0a2a"
      }
     }
    },
    "version_major": 2,
    "version_minor": 0
   }
  }
 },
 "nbformat": 4,
 "nbformat_minor": 5
}
